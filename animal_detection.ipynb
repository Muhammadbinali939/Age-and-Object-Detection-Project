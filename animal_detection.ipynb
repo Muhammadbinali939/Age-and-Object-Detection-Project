{
 "cells": [
  {
   "cell_type": "code",
   "execution_count": null,
   "metadata": {
    "vscode": {
     "languageId": "plaintext"
    }
   },
   "outputs": [],
   "source": [
    "from tensorflow.keras.models import load_model\n",
    "import cv2\n",
    "import numpy as np\n"
   ]
  },
  {
   "cell_type": "code",
   "execution_count": null,
   "metadata": {
    "vscode": {
     "languageId": "plaintext"
    }
   },
   "outputs": [],
   "source": [
    "# Load animal detection model\n",
    "model = load_model('animal_model.h5')\n"
   ]
  },
  {
   "cell_type": "code",
   "execution_count": null,
   "metadata": {
    "vscode": {
     "languageId": "plaintext"
    }
   },
   "outputs": [],
   "source": [
    "# Detect animals in an image\n",
    "def detect_animals(image_path):\n",
    "    img = cv2.imread(image_path)\n",
    "    img_resized = cv2.resize(img, (64, 64))\n",
    "    img_normalized = img_resized / 255.0\n",
    "    img_input = np.expand_dims(img_normalized, axis=0)\n",
    "\n",
    "    predictions = model.predict(img_input)\n",
    "    return predictions"
   ]
  }
 ],
 "metadata": {
  "language_info": {
   "name": "python"
  }
 },
 "nbformat": 4,
 "nbformat_minor": 2
}
