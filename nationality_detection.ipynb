{
 "cells": [
  {
   "cell_type": "code",
   "execution_count": null,
   "metadata": {},
   "outputs": [],
   "source": [
    "from tensorflow.keras.models import load_model\n",
    "import cv2\n",
    "import numpy as np\n"
   ]
  },
  {
   "cell_type": "code",
   "execution_count": null,
   "metadata": {},
   "outputs": [],
   "source": [
    "# Load nationality and emotion models\n",
    "nationality_model = load_model('nationality_model.h5')\n",
    "emotion_model = load_model('emotion_model.h5')\n"
   ]
  },
  {
   "cell_type": "code",
   "execution_count": null,
   "metadata": {},
   "outputs": [],
   "source": [
    "# Predict nationality and emotion\n",
    "def predict_nationality_emotion(image_path):\n",
    "    img = cv2.imread(image_path)\n",
    "    img_resized = cv2.resize(img, (64, 64))\n",
    "    img_normalized = img_resized / 255.0\n",
    "    img_input = np.expand_dims(img_normalized, axis=0)\n",
    "\n",
    "    nationality = nationality_model.predict(img_input)\n",
    "    emotion = emotion_model.predict(img_input)\n",
    "\n",
    "    return nationality, emotion"
   ]
  }
 ],
 "metadata": {
  "kernelspec": {
   "display_name": "venv",
   "language": "python",
   "name": "python3"
  },
  "language_info": {
   "name": "python",
   "version": "3.12.1"
  }
 },
 "nbformat": 4,
 "nbformat_minor": 2
}
